{
 "cells": [
  {
   "cell_type": "code",
   "execution_count": 33,
   "metadata": {
    "collapsed": true
   },
   "outputs": [],
   "source": [
    "from pymatgen import Lattice, Structure, Molecule, Composition\n",
    "from pymatgen.io.vasp import Poscar\n",
    "from pymatgen.io.pwscf import PWInput\n",
    "import numpy as np\n",
    "import pandas as pd\n",
    "import random"
   ]
  },
  {
   "cell_type": "code",
   "execution_count": 53,
   "metadata": {},
   "outputs": [
    {
     "name": "stdout",
     "output_type": "stream",
     "text": [
      "0.0 0 50\n",
      "0.04 2 48\n",
      "0.08 4 46\n",
      "0.12 6 44\n",
      "0.16 8 42\n",
      "0.2 10 40\n",
      "0.24 12 38\n",
      "0.28 14 36\n",
      "0.32 16 34\n",
      "0.36 18 32\n",
      "0.4 20 30\n",
      "0.44 22 28\n",
      "0.48 24 26\n",
      "0.52 26 24\n",
      "0.56 28 22\n",
      "0.6 30 20\n",
      "0.64 32 18\n",
      "0.68 34 16\n",
      "0.72 36 14\n",
      "0.76 38 12\n",
      "0.8 40 10\n",
      "0.84 42 8\n",
      "0.88 44 6\n",
      "0.92 46 4\n",
      "0.96 48 2\n"
     ]
    }
   ],
   "source": [
    "supercell_dim = [5, 5, 1]\n",
    "infile = \"WSe2.vasp\"\n",
    "\n",
    "def get_chalcogen_sites(wse2,index):\n",
    "    q = wse2.structure.get_all_neighbors(2.6,include_index=True)[index]\n",
    "    chalc_choice = random.randint(0,5)\n",
    "    reference = q[chalc_choice][0].x\n",
    "    outlist = [q[chalc_choice][2]]\n",
    "    for i in range(1,len(q)):\n",
    "        if i != chalc_choice:\n",
    "            if q[i][0].x == reference:\n",
    "                outlist.append(q[i][2])\n",
    "    if len(outlist) == 2:\n",
    "        return sorted(outlist)\n",
    "    else:\n",
    "        return \"error\"\n",
    "    \n",
    "def get_unique_chalc_pairs(wse2, num_defects):\n",
    "    num_W = int(wse2.structure.composition.as_dict()['W'])\n",
    "    num_Se = int(wse2.structure.composition.as_dict()['Se'])\n",
    "    if num_defects > num_Se/2:\n",
    "        print(\"ERROR\")\n",
    "        return \"Error\"\n",
    "    indexlist = []\n",
    "    i = 0\n",
    "    while i < num_defects:\n",
    "        random_site = random.randint(0,num_W-1)\n",
    "        chalc_inds = get_chalcogen_sites(wse2,random_site)\n",
    "        if (chalc_inds not in indexlist) and (chalc_inds != \"error\"):\n",
    "            indexlist.append(chalc_inds)\n",
    "            i += 1\n",
    "    return indexlist\n",
    "\n",
    "def get_alloyed_structure(wse2,num_defects):\n",
    "    chalc_list = get_unique_chalc_pairs(wse2, num_defects)\n",
    "\n",
    "    for i in chalc_list:\n",
    "        wse2.structure[int(i[0])] = \"S\"\n",
    "        wse2.structure[int(i[1])] = \"S\"\n",
    "    return Poscar(wse2.structure.get_sorted_structure())\n",
    "\n",
    "wse2 = Poscar.from_file(infile)\n",
    "wse2.structure.make_supercell(supercell_dim)\n",
    "wse2 = Poscar(wse2.structure.get_sorted_structure())\n",
    "num_W = int(wse2.structure.composition.as_dict()['W'])\n",
    "\n",
    "pseudo = {'W': 'W_ONCV_PBE_fr.upf', \n",
    "          'S': 'S_ONCV_PBE_fr.upf', \n",
    "          'Se': 'Se_ONCV_PBE_fr.upf'}\n",
    "control ={    'calculation': 'vc-relax',\n",
    "    'restart_mode':'from_scratch',\n",
    "    'prefix':'bn',\n",
    "    'pseudo_dir' : '/gpfs/u/home/TSDM/TSDMkrbc/barn/Psuedopotentials/ONCV/',\n",
    "    'outdir': './',\n",
    "    'wf_collect':'.true.',\n",
    "    'forc_conv_thr':1.0E-4,\n",
    "    'verbosity':'high'\n",
    "}\n",
    "system = { 'ecutwfc' : 80,\n",
    "    'occupations':'smearing',\n",
    "    'smearing' : 'gaussian',\n",
    "    'degauss':0.005,\n",
    "    'force_symmorphic':'.true.',\n",
    "    'noncolin':'.true.',\n",
    "    'lspinorb':'.true.'\n",
    "}\n",
    "electrons = {    'mixing_mode' : 'plain',\n",
    "    'mixing_beta' : 0.7,\n",
    "    'conv_thr' :  1.0E-8\n",
    "}\n",
    "ions = {    'ion_dynamics' : 'bfgs'\n",
    "}\n",
    "cell = {'cell_dofree' : '2Dxy'}\n",
    "kpoints_grid = [3,3,1]\n",
    "\n",
    "\n",
    "\n",
    "\n",
    "for i in range(num_W):\n",
    "    wse2 = Poscar.from_file(infile)\n",
    "    wse2.structure.make_supercell(supercell_dim)\n",
    "    wse2 = Poscar(wse2.structure.get_sorted_structure())\n",
    "    \n",
    "    wse2_new = get_alloyed_structure(wse2, num_defects=i)\n",
    "\n",
    "    num_Se = int(wse2_new.structure.composition.as_dict()['Se'])\n",
    "    num_S = int(wse2_new.structure.composition.as_dict()['S'])\n",
    "    defect_concentration = round(num_S/(num_S + num_Se),2)\n",
    "\n",
    "    print(defect_concentration, num_S, num_Se)\n",
    "    \n",
    "    PWInput(wse2_new.structure,pseudo=pseudo,control=control,system=system,electrons=electrons,\n",
    "        ions=ions, cell=cell, kpoints_grid =kpoints_grid).write_file(\"WSe2_\" + str(defect_concentration) + \"_relax.in\")\n",
    "    #wse2_new.write_file(\"WSe2_\" + str(defect_concentration) + \".vasp\")"
   ]
  },
  {
   "cell_type": "code",
   "execution_count": 51,
   "metadata": {},
   "outputs": [],
   "source": [
    "pseudo = {'W': 'W_ONCV_PBE_fr.upf', \n",
    "          'S': 'S_ONCV_PBE_fr.upf', \n",
    "          'Se': 'Se_ONCV_PBE_fr.upf'}\n",
    "control ={    'calculation': 'vc-relax',\n",
    "    'restart_mode':'from_scratch',\n",
    "    'prefix':'bn',\n",
    "    'pseudo_dir' : '/gpfs/u/home/TSDM/TSDMkrbc/barn/Psuedopotentials/ONCV/',\n",
    "    'outdir': './',\n",
    "    'wf_collect':'.true.',\n",
    "    'forc_conv_thr':1.0E-4,\n",
    "    'verbosity':'high'\n",
    "}\n",
    "system = { 'ecutwfc' : 80,\n",
    "    'occupations':'smearing',\n",
    "    'smearing' : 'gaussian',\n",
    "    'degauss':0.005,\n",
    "    'force_symmorphic':'.true.',\n",
    "    'noncolin':'.true.',\n",
    "    'lspinorb':'.true.'\n",
    "}\n",
    "electrons = {    'mixing_mode' : 'plain',\n",
    "    'mixing_beta' : 0.7,\n",
    "    'conv_thr' :  1.0E-8\n",
    "}\n",
    "ions = {    'ion_dynamics' : 'bfgs'\n",
    "}\n",
    "cell = {'cell_dofree' : '2Dxy'}\n",
    "kpoints_grid = [3,3,1]"
   ]
  },
  {
   "cell_type": "code",
   "execution_count": 52,
   "metadata": {},
   "outputs": [],
   "source": [
    "PWInput(wse2.structure,pseudo=pseudo,control=control,system=system,electrons=electrons,\n",
    "        ions=ions, cell=cell, kpoints_grid =kpoints_grid).write_file('test.txt')"
   ]
  },
  {
   "cell_type": "code",
   "execution_count": 58,
   "metadata": {},
   "outputs": [
    {
     "data": {
      "text/plain": [
       "Comp: Bi18 Te27 W16 S32"
      ]
     },
     "execution_count": 58,
     "metadata": {},
     "output_type": "execute_result"
    }
   ],
   "source": [
    "bite3 = Poscar.from_file(\"BiTe3_WS2.vasp\")\n",
    "bite3.structure."
   ]
  },
  {
   "cell_type": "code",
   "execution_count": 57,
   "metadata": {},
   "outputs": [],
   "source": [
    "pseudo = {'W': 'W.pz-mt_fhi.UPF', \n",
    "          'S': 'S.pz-mt_fhi.UPF', \n",
    "          'Bi': 'Bi.pz-mt_fhi.UPF',\n",
    "          'Te': 'Te.pz-mt_fhi.UPF'}\n",
    "control ={    'calculation': 'vc-relax',\n",
    "    'restart_mode':'from_scratch',\n",
    "    'prefix':'bn',\n",
    "    'pseudo_dir' : '/gpfs/u/home/TSDM/TSDMkrbc/scratch/BiTe3/PSEUDO-BiTe3-WS2/',\n",
    "    'outdir': './',\n",
    "    'wf_collect':'.true.',\n",
    "    'forc_conv_thr':1.0E-4,\n",
    "    'verbosity':'high'\n",
    "}\n",
    "system = { 'ecutwfc' : 60,\n",
    "    'occupations':'smearing',\n",
    "    'smearing' : 'gaussian',\n",
    "    'degauss':0.005\n",
    "}\n",
    "electrons = {    'mixing_mode' : 'plain',\n",
    "    'mixing_beta' : 0.7,\n",
    "    'conv_thr' :  1.0E-8\n",
    "}\n",
    "ions = {    'ion_dynamics' : 'bfgs'\n",
    "}\n",
    "cell = {'cell_dofree' : '2Dxy'}\n",
    "kpoints_grid = [3,3,1]\n",
    "PWInput(bite3.structure,pseudo=pseudo,control=control,system=system,electrons=electrons,\n",
    "        ions=ions, cell=cell, kpoints_grid =kpoints_grid).write_file(\"bite3.relax.in\")"
   ]
  },
  {
   "cell_type": "code",
   "execution_count": null,
   "metadata": {
    "collapsed": true
   },
   "outputs": [],
   "source": []
  }
 ],
 "metadata": {
  "kernelspec": {
   "display_name": "Python 3",
   "language": "python",
   "name": "python3"
  },
  "language_info": {
   "codemirror_mode": {
    "name": "ipython",
    "version": 3
   },
   "file_extension": ".py",
   "mimetype": "text/x-python",
   "name": "python",
   "nbconvert_exporter": "python",
   "pygments_lexer": "ipython3",
   "version": "3.6.2"
  }
 },
 "nbformat": 4,
 "nbformat_minor": 2
}
