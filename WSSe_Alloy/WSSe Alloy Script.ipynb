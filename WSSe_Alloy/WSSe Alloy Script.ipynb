{
 "cells": [
  {
   "cell_type": "code",
   "execution_count": 98,
   "metadata": {
    "collapsed": true
   },
   "outputs": [],
   "source": [
    "from pymatgen import Lattice, Structure, Molecule, Composition\n",
    "from pymatgen.io.vasp import Poscar\n",
    "import numpy as np\n",
    "import pandas as pd\n",
    "import random"
   ]
  },
  {
   "cell_type": "code",
   "execution_count": 317,
   "metadata": {},
   "outputs": [
    {
     "name": "stdout",
     "output_type": "stream",
     "text": [
      "0.0 0 50\n",
      "0.04 2 48\n",
      "0.09 4 46\n",
      "0.14 6 44\n",
      "0.19 8 42\n",
      "0.25 10 40\n",
      "0.32 12 38\n",
      "0.39 14 36\n",
      "0.47 16 34\n",
      "0.56 18 32\n",
      "0.67 20 30\n",
      "0.79 22 28\n",
      "0.92 24 26\n",
      "1.08 26 24\n",
      "1.27 28 22\n",
      "1.5 30 20\n",
      "1.78 32 18\n",
      "2.12 34 16\n",
      "2.57 36 14\n",
      "3.17 38 12\n",
      "4.0 40 10\n",
      "5.25 42 8\n",
      "7.33 44 6\n",
      "11.5 46 4\n",
      "24.0 48 2\n"
     ]
    }
   ],
   "source": [
    "supercell_dim = [5, 5, 1]\n",
    "infile = \"WSe2.vasp\"\n",
    "\n",
    "def get_chalcogen_sites(wse2,index):\n",
    "    q = wse2.structure.get_all_neighbors(2.6,include_index=True)[index]\n",
    "    chalc_choice = random.randint(0,5)\n",
    "    reference = q[chalc_choice][0].x\n",
    "    outlist = [q[chalc_choice][2]]\n",
    "    for i in range(1,len(q)):\n",
    "        if i != chalc_choice:\n",
    "            if q[i][0].x == reference:\n",
    "                outlist.append(q[i][2])\n",
    "    if len(outlist) == 2:\n",
    "        return sorted(outlist)\n",
    "    else:\n",
    "        return \"error\"\n",
    "    \n",
    "def get_unique_chalc_pairs(wse2, num_defects):\n",
    "    num_W = int(wse2.structure.composition.as_dict()['W'])\n",
    "    num_Se = int(wse2.structure.composition.as_dict()['Se'])\n",
    "    if num_defects > num_Se/2:\n",
    "        print(\"ERROR\")\n",
    "        return \"Error\"\n",
    "    indexlist = []\n",
    "    i = 0\n",
    "    while i < num_defects:\n",
    "        random_site = random.randint(0,num_W-1)\n",
    "        chalc_inds = get_chalcogen_sites(wse2,random_site)\n",
    "        if (chalc_inds not in indexlist) and (chalc_inds != \"error\"):\n",
    "            indexlist.append(chalc_inds)\n",
    "            i += 1\n",
    "    return indexlist\n",
    "\n",
    "def get_alloyed_structure(wse2,num_defects):\n",
    "    chalc_list = get_unique_chalc_pairs(wse2, num_defects)\n",
    "\n",
    "    for i in chalc_list:\n",
    "        wse2.structure[int(i[0])] = \"S\"\n",
    "        wse2.structure[int(i[1])] = \"S\"\n",
    "    return Poscar(wse2.structure.get_sorted_structure())\n",
    "\n",
    "\n",
    "for i in range(num_W):\n",
    "    wse2 = Poscar.from_file(infile)\n",
    "    wse2.structure.make_supercell(supercell_dim)\n",
    "    wse2 = Poscar(wse2.structure.get_sorted_structure())\n",
    "    num_W = int(wse2.structure.composition.as_dict()['W'])\n",
    "    \n",
    "    wse2_new = get_alloyed_structure(wse2, num_defects=i)\n",
    "\n",
    "    num_Se = int(wse2_new.structure.composition.as_dict()['Se'])\n",
    "    num_S = int(wse2_new.structure.composition.as_dict()['S'])\n",
    "    defect_concentration = round(num_S/num_Se,2)\n",
    "\n",
    "    print(defect_concentration, num_S, num_Se)\n",
    "\n",
    "    wse2_new.write_file(\"WSe2_\" + str(defect_concentration) + \".vasp\")"
   ]
  },
  {
   "cell_type": "code",
   "execution_count": null,
   "metadata": {
    "collapsed": true
   },
   "outputs": [],
   "source": []
  }
 ],
 "metadata": {
  "kernelspec": {
   "display_name": "Python 3",
   "language": "python",
   "name": "python3"
  },
  "language_info": {
   "codemirror_mode": {
    "name": "ipython",
    "version": 3
   },
   "file_extension": ".py",
   "mimetype": "text/x-python",
   "name": "python",
   "nbconvert_exporter": "python",
   "pygments_lexer": "ipython3",
   "version": "3.6.2"
  }
 },
 "nbformat": 4,
 "nbformat_minor": 2
}
