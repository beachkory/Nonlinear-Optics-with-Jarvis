{
 "cells": [
  {
   "cell_type": "code",
   "execution_count": 137,
   "metadata": {
    "collapsed": true
   },
   "outputs": [],
   "source": [
    "import xml.etree.ElementTree as ET\n",
    "import xmltodict\n",
    "\n",
    "path = '../../../../../bn.qe63.save/'\n",
    "\n",
    "def read_file(file):\n",
    "    with open(file, 'r') as myfile:\n",
    "        xmltext=myfile.read()\n",
    "    return xmltext\n",
    "\n",
    "def get_energies_by_band(eigendict, nband):\n",
    "    banddict = {}\n",
    "    for i in range(nband):\n",
    "        banddict[i+1] = []\n",
    "        for kpoint in range(1,nkpt+1):\n",
    "            banddict[i+1].append(eigendict[kpoint][i])\n",
    "    return banddict\n",
    "\n",
    "def check_if_metallic(banddict):\n",
    "    metallic = False\n",
    "    for i in banddict:\n",
    "        if banddict[i][0] < Fermi:\n",
    "            bandtype = \"valence\"\n",
    "        else:\n",
    "            bandtype = \"conduction\"\n",
    "\n",
    "        for eigenvalue in banddict[i]:\n",
    "            if eigenvalue < Fermi:\n",
    "                current_kpt_type = \"valence\"\n",
    "            else:\n",
    "                current_kpt_type = \"conduction\"\n",
    "            if bandtype != current_kpt_type:\n",
    "                metallic = True\n",
    "    return metallic\n",
    "\n",
    "#Get dictionary with important info about HOMO/LUMO and metallicity\n",
    "def get_homo_lumo_dict(eigendict, nkpt, nband, Fermi):\n",
    "    ev_conv = 27.2114\n",
    "    homo_bd = []\n",
    "    homo_eig = []\n",
    "    lumo_eig = []\n",
    "    \n",
    "    for kpt in range(1, nkpt+1):\n",
    "        for band in range(nband):\n",
    "            if eigendict[kpt][band] < Fermi:\n",
    "                highest_val_bd = band +1\n",
    "                highest_val_en = eigendict[kpt][band]\n",
    "        homo_bd.append(highest_val_bd)\n",
    "        homo_eig.append(highest_val_en)\n",
    "        lumo_eig.append(eigendict[kpt][highest_val_bd])\n",
    "    \n",
    "    homo_energy = max(homo_eig)\n",
    "    homo_kpt = homo_eig.index(max(homo_eig)) + 1\n",
    "    lumo_energy = min(lumo_eig)\n",
    "    lumo_kpt = lumo_eig.index(min(lumo_eig)) + 1\n",
    "    band_gap = lumo_energy - homo_energy\n",
    "    banddict = get_energies_by_band(eigendict,nband)\n",
    "    is_metallic = check_if_metallic(banddict)\n",
    "    #print([x*ev_conv for x in homo_eig],[x*ev_conv for x in lumo_eig])\n",
    "    \n",
    "    if homo_kpt == lumo_kpt:\n",
    "        gap_type = 'DIRECT'\n",
    "    else:\n",
    "        gap_type = 'INDIRECT'\n",
    "    \n",
    "    \n",
    "    homo_lumo_dict = {'HOMO_ENERGY': homo_energy*ev_conv, \n",
    "                      'LUMO_ENERGY': lumo_energy*ev_conv, \n",
    "                      'BAND_GAP': band_gap*ev_conv, \n",
    "                      'HOMO_KPT_NUM': homo_kpt, \n",
    "                      'LUMO_KPT_NUM': lumo_kpt,\n",
    "                      'HOMO_BAND_NUM': max(homo_bd),\n",
    "                      'IS_METALLIC': is_metallic,\n",
    "                      'FERMI_ENERGY': Fermi*ev_conv,\n",
    "                      'GAP_TYPE': gap_type}\n",
    "    return homo_lumo_dict"
   ]
  },
  {
   "cell_type": "code",
   "execution_count": 138,
   "metadata": {},
   "outputs": [],
   "source": [
    "tree = ET.parse(path + 'data-file-schema.xml')\n",
    "file = path +  'data-file-schema.xml'\n",
    "xmldict = xmltodict.parse(read_file(file))\n",
    "\n",
    "Fermi = float(xmldict['qes:espresso']['output']['band_structure']['fermi_energy'])\n",
    "nband = int(xmldict['qes:espresso']['output']['band_structure']['nbnd'])\n",
    "nkpt = int(xmldict['qes:espresso']['output']['band_structure']['nks'])\n",
    "\n",
    "occdict = {}\n",
    "eigendict = {}\n",
    "for i in range(nkpt):\n",
    "    eigendict[i+1] = [float(q) for q in list(xmldict['qes:espresso']['output']['band_structure']['ks_energies'][i].items())[2][1]['#text'].split(' ')]"
   ]
  },
  {
   "cell_type": "code",
   "execution_count": 139,
   "metadata": {},
   "outputs": [
    {
     "data": {
      "text/plain": [
       "{'HOMO_ENERGY': -0.503765354018746,\n",
       " 'LUMO_ENERGY': 1.0799229859739077,\n",
       " 'BAND_GAP': 1.5836883399926536,\n",
       " 'HOMO_KPT_NUM': 19,\n",
       " 'LUMO_KPT_NUM': 19,\n",
       " 'HOMO_BAND_NUM': 13,\n",
       " 'IS_METALLIC': False,\n",
       " 'FERMI_ENERGY': 0.09828643441981547,\n",
       " 'GAP_TYPE': 'DIRECT'}"
      ]
     },
     "execution_count": 139,
     "metadata": {},
     "output_type": "execute_result"
    }
   ],
   "source": [
    "get_homo_lumo_dict(eigendict, nkpt, nband, Fermi)"
   ]
  },
  {
   "cell_type": "code",
   "execution_count": 29,
   "metadata": {},
   "outputs": [
    {
     "data": {
      "text/plain": [
       "OrderedDict([('@type', 'real'),\n",
       "             ('@size', '17'),\n",
       "             ('#text',\n",
       "              '-2.350932570812750E+000\\n-1.400700398313944E+000\\n-1.393350950316323E+000\\n-1.393350765205279E+000\\n-6.311616158300198E-001\\n-5.834078283397391E-001\\n-3.194500575749127E-001\\n-2.097309932530080E-001\\n-2.097307940084339E-001\\n-1.787524662620082E-001\\n-1.689689398438817E-001\\n-1.689664008106618E-001\\n-1.138702308565865E-001\\n-1.234747103456562E-002\\n-1.234520698282502E-002\\n-3.731716212568933E-003\\n-3.730487330064607E-003')])"
      ]
     },
     "execution_count": 29,
     "metadata": {},
     "output_type": "execute_result"
    }
   ],
   "source": [
    "xmltodict.parse(read_file('../../../../../bn.save/./K00001/eigenval.xml'))['Root']['EIGENVALUES']"
   ]
  },
  {
   "cell_type": "code",
   "execution_count": 72,
   "metadata": {},
   "outputs": [
    {
     "data": {
      "text/plain": [
       "19"
      ]
     },
     "execution_count": 72,
     "metadata": {},
     "output_type": "execute_result"
    }
   ],
   "source": [
    "nkpt"
   ]
  },
  {
   "cell_type": "code",
   "execution_count": 75,
   "metadata": {
    "collapsed": true
   },
   "outputs": [],
   "source": [
    "xmldict = xmltodict.parse(read_file(file))"
   ]
  },
  {
   "cell_type": "code",
   "execution_count": 132,
   "metadata": {},
   "outputs": [
    {
     "name": "stdout",
     "output_type": "stream",
     "text": [
      "('k_point', OrderedDict([('@weight', '1.388888888889e-2'), ('#text', '0.000000000000000e0 0.000000000000000e0 0.000000000000000e0')]))\n",
      "('npw', '28247')\n",
      "('eigenvalues', OrderedDict([('@size', '17'), ('#text', '-2.351739143399816e0 -1.363037543108086e0 -1.357002693335830e0 -1.357002693228933e0 -5.701177637689828e-1 -5.295456568793795e-1 -2.300443004931744e-1 -1.033325060920784e-1 -1.033325059620827e-1 -8.977931737616590e-2 -6.405377349834930e-2 -6.405377224980669e-2 -2.779670156534298e-2 9.415064716757684e-2 9.415064820718960e-2 1.024734897687359e-1 1.024734904010048e-1')]))\n",
      "('occupations', OrderedDict([('@size', '17'), ('#text', '1.000000000000000e0 1.000000000000000e0 1.000000000000000e0 1.000000000000000e0 1.000000000000000e0 1.000000000000000e0 1.000000000000000e0 1.000000000000000e0 1.000000000000000e0 1.000000000000000e0 1.000000000000000e0 1.000000000000000e0 1.000000000000000e0 0.000000000000000e0 0.000000000000000e0 0.000000000000000e0 0.000000000000000e0')]))\n"
     ]
    }
   ],
   "source": [
    "for i in xmldict['qes:espresso']['output']['band_structure']['ks_energies'][0].items():\n",
    "    print(i)"
   ]
  },
  {
   "cell_type": "code",
   "execution_count": 129,
   "metadata": {},
   "outputs": [
    {
     "data": {
      "text/plain": [
       "-2.351739143399816"
      ]
     },
     "execution_count": 129,
     "metadata": {},
     "output_type": "execute_result"
    }
   ],
   "source": [
    "[float(q) for q in list(xmldict['qes:espresso']['output']['band_structure']['ks_energies'][0].items())[2][1]['#text'].split(' ')]"
   ]
  },
  {
   "cell_type": "code",
   "execution_count": null,
   "metadata": {
    "collapsed": true
   },
   "outputs": [],
   "source": []
  }
 ],
 "metadata": {
  "kernelspec": {
   "display_name": "Python 3",
   "language": "python",
   "name": "python3"
  },
  "language_info": {
   "codemirror_mode": {
    "name": "ipython",
    "version": 3
   },
   "file_extension": ".py",
   "mimetype": "text/x-python",
   "name": "python",
   "nbconvert_exporter": "python",
   "pygments_lexer": "ipython3",
   "version": "3.6.2"
  }
 },
 "nbformat": 4,
 "nbformat_minor": 2
}
