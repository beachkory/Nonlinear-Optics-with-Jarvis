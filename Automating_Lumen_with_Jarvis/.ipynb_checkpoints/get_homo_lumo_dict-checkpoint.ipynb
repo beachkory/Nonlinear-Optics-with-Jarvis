{
 "cells": [
  {
   "cell_type": "code",
   "execution_count": 1,
   "metadata": {
    "collapsed": true
   },
   "outputs": [],
   "source": [
    "import xml.etree.ElementTree as ET\n",
    "import xmltodict\n",
    "\n",
    "path = '../../../../../bn.save/'\n",
    "\n",
    "def read_file(file):\n",
    "    with open(file, 'r') as myfile:\n",
    "        xmltext=myfile.read()\n",
    "    return xmltext\n",
    "\n",
    "def get_energies_by_band(eigendict, nband):\n",
    "    banddict = {}\n",
    "    for i in range(nband):\n",
    "        banddict[i+1] = []\n",
    "        for kpoint in range(1,nkpt+1):\n",
    "            banddict[i+1].append(eigendict[kpoint][i])\n",
    "    return banddict\n",
    "\n",
    "def check_if_metallic(banddict):\n",
    "    metallic = False\n",
    "    for i in banddict:\n",
    "        if banddict[i][0] < Fermi:\n",
    "            bandtype = \"valence\"\n",
    "        else:\n",
    "            bandtype = \"conduction\"\n",
    "\n",
    "        for eigenvalue in banddict[i]:\n",
    "            if eigenvalue < Fermi:\n",
    "                current_kpt_type = \"valence\"\n",
    "            else:\n",
    "                current_kpt_type = \"conduction\"\n",
    "            if bandtype != current_kpt_type:\n",
    "                metallic = True\n",
    "    return metallic\n",
    "\n",
    "#Get dictionary with important info about HOMO/LUMO and metallicity\n",
    "def get_homo_lumo_dict(eigendict, nkpt, nband, Fermi):\n",
    "    homo_bd = []\n",
    "    homo_eig = []\n",
    "    lumo_eig = []\n",
    "    \n",
    "    for kpt in range(1, nkpt+1):\n",
    "        for band in range(nband):\n",
    "            if eigendict[kpt][band] < Fermi:\n",
    "                highest_val_bd = band\n",
    "                highest_val_en = eigendict[kpt][band]\n",
    "        homo_bd.append(highest_val_bd)\n",
    "        homo_eig.append(highest_val_en)\n",
    "        lumo_eig.append(eigendict[kpt][highest_val_bd+1])\n",
    "    \n",
    "    homo_energy = max(homo_eig)\n",
    "    homo_kpt = homo_eig.index(max(homo_eig)) + 1\n",
    "    lumo_energy = min(lumo_eig)\n",
    "    lumo_kpt = lumo_eig.index(max(lumo_eig)) + 1\n",
    "    band_gap = lumo_energy - homo_energy\n",
    "    banddict = get_energies_by_band(eigendict,nband)\n",
    "    is_metallic = check_if_metallic(banddict)\n",
    "    \n",
    "    if homo_kpt == lumo_kpt:\n",
    "        gap_type = 'DIRECT'\n",
    "    else:\n",
    "        gap_type = 'INDIRECT'\n",
    "    \n",
    "    homo_lumo_dict = {'HOMO_ENERGY': homo_energy, \n",
    "                      'LUMO_ENERGY': lumo_energy, \n",
    "                      'BAND_GAP': band_gap, \n",
    "                      'HOMO_KPT_NUM': homo_kpt, \n",
    "                      'LUMO_KPT_NUM': lumo_kpt,\n",
    "                      'HOMO_BAND_NUM': max(homo_bd),\n",
    "                      'IS_METALLIC': is_metallic,\n",
    "                      'FERMI_ENERGY': Fermi,\n",
    "                      'GAP_TYPE': gap_type}\n",
    "    return homo_lumo_dict"
   ]
  },
  {
   "cell_type": "code",
   "execution_count": 2,
   "metadata": {
    "collapsed": true
   },
   "outputs": [],
   "source": [
    "tree = ET.parse(path + 'data-file.xml')\n",
    "file = path +  'data-file.xml'\n",
    "xmldict = xmltodict.parse(read_file(file))\n",
    "\n",
    "Fermi = float(xmldict['Root']['BAND_STRUCTURE_INFO']['FERMI_ENERGY']['#text'])\n",
    "nband = int(xmldict['Root']['BAND_STRUCTURE_INFO']['NUMBER_OF_BANDS']['#text'])\n",
    "nkpt = int(xmldict['Root']['BAND_STRUCTURE_INFO']['NUMBER_OF_K-POINTS']['#text'])\n",
    "\n",
    "kpoint_xml_paths = []\n",
    "for i in range(nkpt):\n",
    "    kpoint_xml_paths.append(path + xmldict['Root']['EIGENVALUES']['K-POINT.' + str(i+1)]['DATAFILE']['@iotk_link'])\n",
    "    \n",
    "occdict = {}\n",
    "eigendict = {}\n",
    "for i, kpfile in enumerate(kpoint_xml_paths):\n",
    "    occdict[i+1] = [float(q) for q in xmltodict.parse(read_file(kpfile))['Root']['OCCUPATIONS']['#text'].split('\\n')]\n",
    "    eigendict[i+1] = [float(q) for q in xmltodict.parse(read_file(kpfile))['Root']['EIGENVALUES']['#text'].split('\\n')]"
   ]
  },
  {
   "cell_type": "code",
   "execution_count": 3,
   "metadata": {},
   "outputs": [
    {
     "data": {
      "text/plain": [
       "{'HOMO_ENERGY': -0.1852761641559415,\n",
       " 'LUMO_ENERGY': -0.03393760655818258,\n",
       " 'BAND_GAP': 0.15133855759775894,\n",
       " 'HOMO_KPT_NUM': 7,\n",
       " 'LUMO_KPT_NUM': 23,\n",
       " 'HOMO_BAND_NUM': 12,\n",
       " 'IS_METALLIC': False,\n",
       " 'FERMI_ENERGY': -0.04868269712916265,\n",
       " 'GAP_TYPE': 'INDIRECT'}"
      ]
     },
     "execution_count": 3,
     "metadata": {},
     "output_type": "execute_result"
    }
   ],
   "source": [
    "get_homo_lumo_dict(eigendict, nkpt, nband, Fermi)"
   ]
  },
  {
   "cell_type": "code",
   "execution_count": null,
   "metadata": {
    "collapsed": true
   },
   "outputs": [],
   "source": []
  }
 ],
 "metadata": {
  "kernelspec": {
   "display_name": "Python 3",
   "language": "python",
   "name": "python3"
  },
  "language_info": {
   "codemirror_mode": {
    "name": "ipython",
    "version": 3
   },
   "file_extension": ".py",
   "mimetype": "text/x-python",
   "name": "python",
   "nbconvert_exporter": "python",
   "pygments_lexer": "ipython3",
   "version": "3.6.2"
  }
 },
 "nbformat": 4,
 "nbformat_minor": 2
}
