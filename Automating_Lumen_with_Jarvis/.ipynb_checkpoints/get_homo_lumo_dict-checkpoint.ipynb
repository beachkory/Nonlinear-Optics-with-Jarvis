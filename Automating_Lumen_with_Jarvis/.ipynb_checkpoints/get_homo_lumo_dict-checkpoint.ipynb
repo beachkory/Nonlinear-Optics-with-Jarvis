{
 "cells": [
  {
   "cell_type": "code",
   "execution_count": 69,
   "metadata": {},
   "outputs": [],
   "source": [
    "import xml.etree.ElementTree as ET\n",
    "import xmltodict\n",
    "\n",
    "path = '../../../../../bn.save/'\n",
    "\n",
    "def read_file(file):\n",
    "    with open(file, 'r') as myfile:\n",
    "        xmltext=myfile.read()\n",
    "    return xmltext\n",
    "\n",
    "def get_energies_by_band(eigendict, nband):\n",
    "    banddict = {}\n",
    "    for i in range(nband):\n",
    "        banddict[i+1] = []\n",
    "        for kpoint in range(1,nkpt+1):\n",
    "            banddict[i+1].append(eigendict[kpoint][i])\n",
    "    return banddict\n",
    "\n",
    "def check_if_metallic(banddict):\n",
    "    metallic = False\n",
    "    for i in banddict:\n",
    "        if banddict[i][0] < Fermi:\n",
    "            bandtype = \"valence\"\n",
    "        else:\n",
    "            bandtype = \"conduction\"\n",
    "\n",
    "        for eigenvalue in banddict[i]:\n",
    "            if eigenvalue < Fermi:\n",
    "                current_kpt_type = \"valence\"\n",
    "            else:\n",
    "                current_kpt_type = \"conduction\"\n",
    "            if bandtype != current_kpt_type:\n",
    "                metallic = True\n",
    "    return metallic\n",
    "\n",
    "#Get dictionary with important info about HOMO/LUMO and metallicity\n",
    "def get_homo_lumo_dict(eigendict, nkpt, nband, Fermi):\n",
    "    ev_conv = 27.2114\n",
    "    homo_bd = []\n",
    "    homo_eig = []\n",
    "    lumo_eig = []\n",
    "    \n",
    "    for kpt in range(1, nkpt+1):\n",
    "        for band in range(nband):\n",
    "            if eigendict[kpt][band] < Fermi:\n",
    "                highest_val_bd = band +1\n",
    "                highest_val_en = eigendict[kpt][band]\n",
    "        homo_bd.append(highest_val_bd)\n",
    "        homo_eig.append(highest_val_en)\n",
    "        lumo_eig.append(eigendict[kpt][highest_val_bd])\n",
    "    \n",
    "    homo_energy = max(homo_eig)\n",
    "    homo_kpt = homo_eig.index(max(homo_eig)) + 1\n",
    "    lumo_energy = min(lumo_eig)\n",
    "    lumo_kpt = lumo_eig.index(min(lumo_eig)) + 1\n",
    "    band_gap = lumo_energy - homo_energy\n",
    "    banddict = get_energies_by_band(eigendict,nband)\n",
    "    is_metallic = check_if_metallic(banddict)\n",
    "    print([x*ev_conv for x in homo_eig],[x*ev_conv for x in lumo_eig])\n",
    "    \n",
    "    if homo_kpt == lumo_kpt:\n",
    "        gap_type = 'DIRECT'\n",
    "    else:\n",
    "        gap_type = 'INDIRECT'\n",
    "    \n",
    "    \n",
    "    homo_lumo_dict = {'HOMO_ENERGY': homo_energy*ev_conv, \n",
    "                      'LUMO_ENERGY': lumo_energy*ev_conv, \n",
    "                      'BAND_GAP': band_gap*ev_conv, \n",
    "                      'HOMO_KPT_NUM': homo_kpt, \n",
    "                      'LUMO_KPT_NUM': lumo_kpt,\n",
    "                      'HOMO_BAND_NUM': max(homo_bd),\n",
    "                      'IS_METALLIC': is_metallic,\n",
    "                      'FERMI_ENERGY': Fermi*ev_conv,\n",
    "                      'GAP_TYPE': gap_type}\n",
    "    return homo_lumo_dict"
   ]
  },
  {
   "cell_type": "code",
   "execution_count": 70,
   "metadata": {
    "collapsed": true
   },
   "outputs": [],
   "source": [
    "tree = ET.parse(path + 'data-file.xml')\n",
    "file = path +  'data-file.xml'\n",
    "xmldict = xmltodict.parse(read_file(file))\n",
    "\n",
    "Fermi = float(xmldict['Root']['BAND_STRUCTURE_INFO']['FERMI_ENERGY']['#text'])\n",
    "nband = int(xmldict['Root']['BAND_STRUCTURE_INFO']['NUMBER_OF_BANDS']['#text'])\n",
    "nkpt = int(xmldict['Root']['BAND_STRUCTURE_INFO']['NUMBER_OF_K-POINTS']['#text'])\n",
    "\n",
    "kpoint_xml_paths = []\n",
    "for i in range(nkpt):\n",
    "    kpoint_xml_paths.append(path + xmldict['Root']['EIGENVALUES']['K-POINT.' + str(i+1)]['DATAFILE']['@iotk_link'])\n",
    "    \n",
    "occdict = {}\n",
    "eigendict = {}\n",
    "for i, kpfile in enumerate(kpoint_xml_paths):\n",
    "    occdict[i+1] = [float(q) for q in xmltodict.parse(read_file(kpfile))['Root']['OCCUPATIONS']['#text'].split('\\n')]\n",
    "    eigendict[i+1] = [float(q) for q in xmltodict.parse(read_file(kpfile))['Root']['EIGENVALUES']['#text'].split('\\n')]"
   ]
  },
  {
   "cell_type": "code",
   "execution_count": 71,
   "metadata": {},
   "outputs": [
    {
     "name": "stdout",
     "output_type": "stream",
     "text": [
      "[-3.098568399930918, -3.1509652397558416, -3.385838155308632, -3.8148516969119908, -4.061181422886841, -3.8917666016186128, -3.7260577641114025, -3.2954777511094258, -3.640748482170567, -3.942620658443245, -3.84279337651176, -3.602206348070846, -3.8838014379888035, -3.8442947064216324, -3.5961333382232783, -3.4192596347030446, -3.6191783349695417, -3.3102229040631412, -3.1202607018165485] [-0.33599197330997893, -0.4694708617333241, -0.8020859042986307, -0.927097501257557, -0.8960624491879936, -0.901218906479595, -0.8740539812129887, -0.7064355236547767, -0.9950565051555555, -1.058487522797528, -0.9315161844825524, -0.8586968005613735, -1.1628029247738192, -1.0163108036185016, -0.8962170406154063, -0.9801007557587923, -0.9329050382486463, -1.197306262500803, -1.436265582829194]\n"
     ]
    },
    {
     "data": {
      "text/plain": [
       "{'HOMO_ENERGY': -3.098568399930918,\n",
       " 'LUMO_ENERGY': -1.436265582829194,\n",
       " 'BAND_GAP': 1.662302817101724,\n",
       " 'HOMO_KPT_NUM': 1,\n",
       " 'LUMO_KPT_NUM': 19,\n",
       " 'HOMO_BAND_NUM': 13,\n",
       " 'IS_METALLIC': False,\n",
       " 'FERMI_ENERGY': -2.2505657134942765,\n",
       " 'GAP_TYPE': 'INDIRECT'}"
      ]
     },
     "execution_count": 71,
     "metadata": {},
     "output_type": "execute_result"
    }
   ],
   "source": [
    "get_homo_lumo_dict(eigendict, nkpt, nband, Fermi)"
   ]
  },
  {
   "cell_type": "code",
   "execution_count": 29,
   "metadata": {},
   "outputs": [
    {
     "data": {
      "text/plain": [
       "OrderedDict([('@type', 'real'),\n",
       "             ('@size', '17'),\n",
       "             ('#text',\n",
       "              '-2.350932570812750E+000\\n-1.400700398313944E+000\\n-1.393350950316323E+000\\n-1.393350765205279E+000\\n-6.311616158300198E-001\\n-5.834078283397391E-001\\n-3.194500575749127E-001\\n-2.097309932530080E-001\\n-2.097307940084339E-001\\n-1.787524662620082E-001\\n-1.689689398438817E-001\\n-1.689664008106618E-001\\n-1.138702308565865E-001\\n-1.234747103456562E-002\\n-1.234520698282502E-002\\n-3.731716212568933E-003\\n-3.730487330064607E-003')])"
      ]
     },
     "execution_count": 29,
     "metadata": {},
     "output_type": "execute_result"
    }
   ],
   "source": [
    "xmltodict.parse(read_file('../../../../../bn.save/./K00001/eigenval.xml'))['Root']['EIGENVALUES']"
   ]
  },
  {
   "cell_type": "code",
   "execution_count": 72,
   "metadata": {},
   "outputs": [
    {
     "data": {
      "text/plain": [
       "19"
      ]
     },
     "execution_count": 72,
     "metadata": {},
     "output_type": "execute_result"
    }
   ],
   "source": [
    "nkpt"
   ]
  },
  {
   "cell_type": "code",
   "execution_count": null,
   "metadata": {
    "collapsed": true
   },
   "outputs": [],
   "source": []
  }
 ],
 "metadata": {
  "kernelspec": {
   "display_name": "Python 3",
   "language": "python",
   "name": "python3"
  },
  "language_info": {
   "codemirror_mode": {
    "name": "ipython",
    "version": 3
   },
   "file_extension": ".py",
   "mimetype": "text/x-python",
   "name": "python",
   "nbconvert_exporter": "python",
   "pygments_lexer": "ipython3",
   "version": "3.6.2"
  }
 },
 "nbformat": 4,
 "nbformat_minor": 2
}
