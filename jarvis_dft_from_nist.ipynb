{
 "cells": [
  {
   "cell_type": "code",
   "execution_count": 79,
   "metadata": {
    "collapsed": true
   },
   "outputs": [],
   "source": [
    "from monty.serialization import MontyDecoder, loadfn\n",
    "import os\n",
    "import pprint\n",
    "from pymatgen.analysis.elasticity.elastic import ElasticTensor\n",
    "import numpy as np"
   ]
  },
  {
   "cell_type": "code",
   "execution_count": 80,
   "metadata": {},
   "outputs": [
    {
     "data": {
      "text/plain": [
       "'C:\\\\Users\\\\Kory\\\\Google Drive\\\\Jupyter_Notebook\\\\Jarvis'"
      ]
     },
     "execution_count": 80,
     "metadata": {},
     "output_type": "execute_result"
    }
   ],
   "source": [
    "os.getcwd()"
   ]
  },
  {
   "cell_type": "code",
   "execution_count": 127,
   "metadata": {
    "collapsed": true
   },
   "outputs": [],
   "source": [
    "dat_3d=loadfn('data/jdft_3d-5-23-2018.json',cls=MontyDecoder)\n",
    "dat_2d=loadfn('data/jdft_2d-5-23-2018.json',cls=MontyDecoder)"
   ]
  },
  {
   "cell_type": "code",
   "execution_count": 117,
   "metadata": {},
   "outputs": [
    {
     "name": "stdout",
     "output_type": "stream",
     "text": [
      "#3D materials= 27252\n",
      "#2D materials= 635\n",
      "Available keys dict_keys(['magmom', 'fin_en', 'op_gap', 'final_str', 'mpid', 'exfoliation_en', 'elastic', 'incar', 'kpoints', 'mepsz', 'jid', 'mepsx', 'mepsy', 'initial_str', 'form_enp', 'epsx', 'epsy', 'epsz', 'mbj_gap'])\n"
     ]
    },
    {
     "data": {
      "text/plain": [
       "'na'"
      ]
     },
     "execution_count": 117,
     "metadata": {},
     "output_type": "execute_result"
    }
   ],
   "source": [
    "print (\"#3D materials=\",len(dat_3d))\n",
    "print (\"#2D materials=\",len(dat_2d))\n",
    "print (\"Available keys\",dat_2d[0].keys())\n",
    "dat_2d[0]['mbj_gap']"
   ]
  },
  {
   "cell_type": "code",
   "execution_count": 83,
   "metadata": {
    "scrolled": true
   },
   "outputs": [
    {
     "name": "stdout",
     "output_type": "stream",
     "text": [
      "{'eff_mass': {'n': [3.847427511538264e-07,\n",
      "                    3.847427511538264e-07,\n",
      "                    3.847427511538264e-07],\n",
      "              'p': [3.847427511538264e-07,\n",
      "                    3.847427511538264e-07,\n",
      "                    3.847427511538264e-07]},\n",
      " 'elastic': '309.1,159.5,159.5,-0.0,-0.0,0.0,159.5,309.1,159.5,0.0,-0.0,0.0,159.5,159.5,309.1,-0.0,-0.0,0.0,-0.0,0.0,-0.0,145.0,0.0,0.0,-0.0,-0.0,-0.0,0.0,145.0,0.0,0.0,0.0,0.0,0.0,0.0,145.0',\n",
      " 'encut': 600,\n",
      " 'epsx': 445.9204,\n",
      " 'epsy': 445.9204,\n",
      " 'epsz': 445.9204,\n",
      " 'fin_en': -14.477249,\n",
      " 'final_str': Structure Summary\n",
      "Lattice\n",
      "    abc : 3.5109611107404795 3.5109611107404795 3.5109611107404795\n",
      " angles : 90.0 90.0 90.0\n",
      " volume : 43.279083669106654\n",
      "      A : 3.5109611107404795 0.0 -0.0\n",
      "      B : -0.0 3.5109611107404795 -0.0\n",
      "      C : 0.0 0.0 3.5109611107404795\n",
      "PeriodicSite: Co (1.7555, 1.7555, 0.0000) [0.5000, 0.5000, 0.0000]\n",
      "PeriodicSite: Co (1.7555, 0.0000, 1.7555) [0.5000, 0.0000, 0.5000]\n",
      "PeriodicSite: Co (0.0000, 1.7555, 1.7555) [0.0000, 0.5000, 0.5000]\n",
      "PeriodicSite: Ni (0.0000, 0.0000, 0.0000) [0.0000, 0.0000, 0.0000],\n",
      " 'form_enp': 0.006,\n",
      " 'gv': 116.92,\n",
      " 'icsd': '[187972]',\n",
      " 'incar': {'AGGAC': 0.0,\n",
      "           'EDIFF': 1e-07,\n",
      "           'EDIFFG': -0.001,\n",
      "           'ENCUT': 600,\n",
      "           'GGA': 'Bo',\n",
      "           'IBRION': 2,\n",
      "           'ISIF': 3,\n",
      "           'ISMEAR': 0,\n",
      "           'ISPIN': 2,\n",
      "           'LCHARG': True,\n",
      "           'LORBIT': 11,\n",
      "           'LUSE_VDW': True,\n",
      "           'LVHAR': True,\n",
      "           'LVTOT': True,\n",
      "           'LWAVE': False,\n",
      "           'NEDOS': 5000,\n",
      "           'NELM': 500,\n",
      "           'NPAR': 4,\n",
      "           'NSW': 500,\n",
      "           'PARAM1': 0.1833333333,\n",
      "           'PARAM2': 0.22,\n",
      "           'PREC': 'Accurate'},\n",
      " 'initial_str': Structure Summary\n",
      "Lattice\n",
      "    abc : 3.5140709999999999 3.5140709999999999 3.5140709999999999\n",
      " angles : 90.0 90.0 90.0\n",
      " volume : 43.394190962890576\n",
      "      A : 3.5140709999999999 0.0 0.0\n",
      "      B : 0.0 3.5140709999999999 0.0\n",
      "      C : 0.0 0.0 3.5140709999999999\n",
      "PeriodicSite: Co (1.7570, 1.7570, 0.0000) [0.5000, 0.5000, 0.0000]\n",
      "PeriodicSite: Co (1.7570, 0.0000, 1.7570) [0.5000, 0.0000, 0.5000]\n",
      "PeriodicSite: Co (0.0000, 1.7570, 1.7570) [0.0000, 0.5000, 0.5000]\n",
      "PeriodicSite: Ni (0.0000, 0.0000, 0.0000) [0.0000, 0.0000, 0.0000],\n",
      " 'jid': 'JVASP-11947',\n",
      " 'kp_leng': 95,\n",
      " 'kpoints': Automatic kpoint scheme\n",
      "0\n",
      "Gamma\n",
      "20 20 20\n",
      ",\n",
      " 'kv': 209.367,\n",
      " 'magmom': {'magmom_osz': 5.5308, 'magmom_out': 5.5308449},\n",
      " 'mbj_gap': 'na',\n",
      " 'mepsx': 'na',\n",
      " 'mepsy': 'na',\n",
      " 'mepsz': 'na',\n",
      " 'mpid': 'mp-1008349',\n",
      " 'op_gap': 0.0018}\n"
     ]
    }
   ],
   "source": [
    "pprint.pprint(dat_3d[1])"
   ]
  },
  {
   "cell_type": "code",
   "execution_count": 84,
   "metadata": {
    "collapsed": true
   },
   "outputs": [],
   "source": [
    "def get_et(elast_str=''):\n",
    "    if elast_str == 'na':\n",
    "        return 'na'\n",
    "    else:\n",
    "        cij=np.empty((6, 6), dtype=float)\n",
    "        elast=np.array(elast_str.split(','),dtype='float')\n",
    "        count=0\n",
    "        for ii in range(6):\n",
    "            for jj in range(6):\n",
    "                cij[ii][jj]=elast[count]\n",
    "                count=count+1\n",
    "        et=ElasticTensor.from_voigt(cij)\n",
    "        return et\n",
    "def get_anisotropy(x):\n",
    "    if x == 'na':\n",
    "        return 'na'\n",
    "    else:\n",
    "        return x.universal_anisotropy"
   ]
  },
  {
   "cell_type": "code",
   "execution_count": 87,
   "metadata": {},
   "outputs": [
    {
     "name": "stderr",
     "output_type": "stream",
     "text": [
      "c:\\users\\kory\\appdata\\local\\conda\\conda\\envs\\py3\\lib\\site-packages\\ipykernel_launcher.py:15: FutureWarning: elementwise comparison failed; returning scalar instead, but in the future will perform elementwise comparison\n",
      "  from ipykernel import kernelapp as app\n"
     ]
    },
    {
     "data": {
      "text/plain": [
       "24.130578965399071"
      ]
     },
     "execution_count": 87,
     "metadata": {},
     "output_type": "execute_result"
    }
   ],
   "source": [
    "x=get_et(dat_3d[3]['elastic'])\n",
    "get_anisotropy(x)"
   ]
  },
  {
   "cell_type": "code",
   "execution_count": 115,
   "metadata": {},
   "outputs": [
    {
     "name": "stderr",
     "output_type": "stream",
     "text": [
      "c:\\users\\kory\\appdata\\local\\conda\\conda\\envs\\py3\\lib\\site-packages\\ipykernel_launcher.py:15: FutureWarning: elementwise comparison failed; returning scalar instead, but in the future will perform elementwise comparison\n",
      "  from ipykernel import kernelapp as app\n"
     ]
    },
    {
     "data": {
      "text/plain": [
       "['na', 2.7714826212666299]"
      ]
     },
     "execution_count": 115,
     "metadata": {},
     "output_type": "execute_result"
    }
   ],
   "source": [
    "def get_anisotropy_list(dat_3d, mpid):\n",
    "    anisotropy_list = []\n",
    "    for i in dat_3d:\n",
    "        if i['mpid'] == mpid:\n",
    "            anisotropy_list.append(get_anisotropy(get_et(i['elastic'])))\n",
    "            #pprint.pprint(i)\n",
    "    return anisotropy_list\n",
    "\n",
    "get_anisotropy_list(dat_3d,dat_2d[0]['mpid'])"
   ]
  },
  {
   "cell_type": "code",
   "execution_count": 134,
   "metadata": {},
   "outputs": [
    {
     "ename": "AttributeError",
     "evalue": "'list' object has no attribute 'values'",
     "output_type": "error",
     "traceback": [
      "\u001b[1;31m---------------------------------------------------------------------------\u001b[0m",
      "\u001b[1;31mAttributeError\u001b[0m                            Traceback (most recent call last)",
      "\u001b[1;32m<ipython-input-134-7ec69b7fd37d>\u001b[0m in \u001b[0;36m<module>\u001b[1;34m()\u001b[0m\n\u001b[1;32m----> 1\u001b[1;33m \u001b[1;34m'mp-1008349'\u001b[0m \u001b[1;32min\u001b[0m \u001b[0mdat_3d\u001b[0m\u001b[1;33m[\u001b[0m\u001b[1;33m:\u001b[0m\u001b[1;33m]\u001b[0m\u001b[1;33m.\u001b[0m\u001b[0mvalues\u001b[0m\u001b[1;33m(\u001b[0m\u001b[1;33m)\u001b[0m\u001b[1;33m\u001b[0m\u001b[0m\n\u001b[0m",
      "\u001b[1;31mAttributeError\u001b[0m: 'list' object has no attribute 'values'"
     ]
    }
   ],
   "source": [
    "\n",
    "'mp-1008349' in dat_3d[1].values()\n"
   ]
  },
  {
   "cell_type": "code",
   "execution_count": 78,
   "metadata": {},
   "outputs": [
    {
     "data": {
      "text/plain": [
       "ElasticTensor([[[[ 63.6  -0.    0. ]\n",
       "   [ -0.   11.1   0. ]\n",
       "   [  0.    0.   -0. ]]\n",
       "\n",
       "  [[ -0.   -0.2  -0. ]\n",
       "   [ -0.2   0.    0. ]\n",
       "   [ -0.    0.    0. ]]\n",
       "\n",
       "  [[  0.   -0.   -0.2]\n",
       "   [ -0.    0.    0. ]\n",
       "   [ -0.2   0.    0. ]]]\n",
       "\n",
       "\n",
       " [[[ -0.   -0.2  -0. ]\n",
       "   [ -0.2   0.    0. ]\n",
       "   [ -0.    0.    0. ]]\n",
       "\n",
       "  [[ 11.1   0.    0. ]\n",
       "   [  0.   63.6   0. ]\n",
       "   [  0.    0.   -0. ]]\n",
       "\n",
       "  [[  0.    0.    0. ]\n",
       "   [  0.    0.   24.7]\n",
       "   [  0.   24.7   0. ]]]\n",
       "\n",
       "\n",
       " [[[  0.   -0.   -0.2]\n",
       "   [ -0.    0.    0. ]\n",
       "   [ -0.2   0.    0. ]]\n",
       "\n",
       "  [[  0.    0.    0. ]\n",
       "   [  0.    0.   24.7]\n",
       "   [  0.   24.7   0. ]]\n",
       "\n",
       "  [[ -0.    0.    0. ]\n",
       "   [  0.   -0.    0. ]\n",
       "   [  0.    0.   -0.1]]]])"
      ]
     },
     "execution_count": 78,
     "metadata": {},
     "output_type": "execute_result"
    }
   ],
   "source": [
    "get_et(dat_2d[0]['elastic'])"
   ]
  },
  {
   "cell_type": "code",
   "execution_count": 48,
   "metadata": {},
   "outputs": [
    {
     "data": {
      "text/plain": [
       "{'magmom': {'magmom_out': -0.0, 'magmom_osz': -0.0},\n",
       " 'fin_en': -11.70272,\n",
       " 'op_gap': 0.7467,\n",
       " 'final_str': Structure Summary\n",
       " Lattice\n",
       "     abc : 3.7013616849136959 4.699616557814899 25.441199999999998\n",
       "  angles : 90.0 90.0 90.0\n",
       "  volume : 442.54918198963259\n",
       "       A : 3.7013616849136959 -0.0 0.0\n",
       "       B : -0.0 4.699616557814899 0.0\n",
       "       C : 0.0 0.0 25.441199999999998\n",
       " PeriodicSite: As (1.8507, 4.3770, 6.9302) [0.5000, 0.9313, 0.2724]\n",
       " PeriodicSite: As (0.0000, 2.6724, 6.9302) [0.0000, 0.5687, 0.2724]\n",
       " PeriodicSite: As (1.8507, 0.3226, 4.5110) [0.5000, 0.0687, 0.1773]\n",
       " PeriodicSite: As (0.0000, 2.0272, 4.5110) [-0.0000, 0.4313, 0.1773],\n",
       " 'mpid': 'mp-158',\n",
       " 'exfoliation_en': 134.86375000000007,\n",
       " 'elastic': '26.4,8.9,0.0,0.0,0.0,0.0,8.9,8.3,0.1,0.0,0.0,0.0,0.0,0.1,0.1,-0.0,-0.0,0.0,0.0,0.0,-0.0,8.0,0.0,0.0,0.0,0.0,-0.0,0.0,-0.0,-0.0,0.0,0.0,0.0,0.0,-0.0,-0.0',\n",
       " 'incar': {'LVHAR': True,\n",
       "  'NELM': 500,\n",
       "  'IBRION': 2,\n",
       "  'PARAM2': 0.22,\n",
       "  'PARAM1': 0.1833333333,\n",
       "  'LWAVE': False,\n",
       "  'AGGAC': 0.0,\n",
       "  'ENCUT': 500,\n",
       "  'ISIF': 3,\n",
       "  'GGA': 'Bo',\n",
       "  'EDIFF': 1e-07,\n",
       "  'LVTOT': True,\n",
       "  'NSW': 500,\n",
       "  'LCHARG': False,\n",
       "  'ISMEAR': 0,\n",
       "  'NPAR': 4,\n",
       "  'NEDOS': 5000,\n",
       "  'PREC': 'Accurate',\n",
       "  'EDIFFG': -0.001,\n",
       "  'ISPIN': 2,\n",
       "  'LORBIT': 11,\n",
       "  'LUSE_VDW': True},\n",
       " 'kpoints': Automatic kpoint scheme\n",
       " 0\n",
       " Gamma\n",
       " 11 9 1,\n",
       " 'mepsz': 'na',\n",
       " 'jid': 'JVASP-31349',\n",
       " 'mepsx': 'na',\n",
       " 'mepsy': 'na',\n",
       " 'initial_str': Structure Summary\n",
       " Lattice\n",
       "     abc : 3.7065000530000001 4.686399937 25.441200259999999\n",
       "  angles : 90.0 90.0 90.0\n",
       "  volume : 441.91725136845974\n",
       "       A : 3.7065000530000001 0.0 0.0\n",
       "       B : 0.0 4.686399937 0.0\n",
       "       C : 0.0 0.0 25.441200259999999\n",
       " PeriodicSite: As (1.8533, 4.3649, 6.9322) [0.5000, 0.9314, 0.2725]\n",
       " PeriodicSite: As (0.0000, 2.6647, 6.9322) [0.0000, 0.5686, 0.2725]\n",
       " PeriodicSite: As (1.8533, 0.3215, 4.5090) [0.5000, 0.0686, 0.1772]\n",
       " PeriodicSite: As (0.0000, 2.0217, 4.5090) [0.0000, 0.4314, 0.1772],\n",
       " 'form_enp': 0.16,\n",
       " 'epsx': 4.7325,\n",
       " 'epsy': 5.6477,\n",
       " 'epsz': 2.6267,\n",
       " 'mbj_gap': 'na'}"
      ]
     },
     "execution_count": 48,
     "metadata": {},
     "output_type": "execute_result"
    }
   ],
   "source": [
    "dat_2d[1]"
   ]
  },
  {
   "cell_type": "code",
   "execution_count": null,
   "metadata": {
    "collapsed": true
   },
   "outputs": [],
   "source": []
  }
 ],
 "metadata": {
  "anaconda-cloud": {},
  "kernelspec": {
   "display_name": "Python 3",
   "language": "python",
   "name": "python3"
  },
  "language_info": {
   "codemirror_mode": {
    "name": "ipython",
    "version": 3
   },
   "file_extension": ".py",
   "mimetype": "text/x-python",
   "name": "python",
   "nbconvert_exporter": "python",
   "pygments_lexer": "ipython3",
   "version": "3.6.2"
  }
 },
 "nbformat": 4,
 "nbformat_minor": 1
}
